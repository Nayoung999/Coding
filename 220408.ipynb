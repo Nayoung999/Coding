{
  "nbformat": 4,
  "nbformat_minor": 0,
  "metadata": {
    "colab": {
      "name": "220408.ipynb",
      "provenance": [],
      "authorship_tag": "ABX9TyMb20JmVtdn5v23ziFfYkgM",
      "include_colab_link": true
    },
    "kernelspec": {
      "name": "python3",
      "display_name": "Python 3"
    },
    "language_info": {
      "name": "python"
    }
  },
  "cells": [
    {
      "cell_type": "markdown",
      "metadata": {
        "id": "view-in-github",
        "colab_type": "text"
      },
      "source": [
        "<a href=\"https://colab.research.google.com/github/Nayoung999/Coding/blob/main/220408.ipynb\" target=\"_parent\"><img src=\"https://colab.research.google.com/assets/colab-badge.svg\" alt=\"Open In Colab\"/></a>"
      ]
    },
    {
      "cell_type": "markdown",
      "source": [
        "# UNIT 23.2차원 리스트 사용하기 \n",
        "\n",
        "이번에는 평면 구조의 2차원 리스트를 사용해보자.\n"
      ],
      "metadata": {
        "id": "yMW9-aiiJSjj"
      }
    },
    {
      "cell_type": "code",
      "execution_count": 1,
      "metadata": {
        "colab": {
          "base_uri": "https://localhost:8080/"
        },
        "id": "lmezx61_JKlo",
        "outputId": "a573ad5a-ed13-443a-88e2-73e558cb91ec"
      },
      "outputs": [
        {
          "output_type": "execute_result",
          "data": {
            "text/plain": [
              "[[10, 20], [30, 40], [50, 60]]"
            ]
          },
          "metadata": {},
          "execution_count": 1
        }
      ],
      "source": [
        "# 23.1.2차원 리스트를 만들고 요소에 접근하기 \n",
        "# 리스트 = [[값,값], [값, 값], [값, 값]]\n",
        "a = [[10, 20], [30, 40], [50, 60]]\n",
        "a"
      ]
    },
    {
      "cell_type": "code",
      "source": [
        "a = [[10, 20],\n",
        "     [30, 40], \n",
        "     [50, 60]]\n",
        "a"
      ],
      "metadata": {
        "colab": {
          "base_uri": "https://localhost:8080/"
        },
        "id": "p-cbGN66Jn2v",
        "outputId": "997830d9-3749-4c21-85e9-ce4f7d951320"
      },
      "execution_count": 3,
      "outputs": [
        {
          "output_type": "execute_result",
          "data": {
            "text/plain": [
              "[[10, 20], [30, 40], [50, 60]]"
            ]
          },
          "metadata": {},
          "execution_count": 3
        }
      ]
    },
    {
      "cell_type": "code",
      "source": [
        "# 가로 2, 세로 3의 2차원 리스트가 만들어졌다. "
      ],
      "metadata": {
        "id": "vzOd5pAiJuxc"
      },
      "execution_count": 4,
      "outputs": []
    },
    {
      "cell_type": "code",
      "source": [
        "#23.1.1 2차원 리스트의 요소에 접근하기 \n",
        "# 2차원 리스트의 요소에 접근하거나 값을 할당할 때는 리스트뒤에 [ ] 를 두 번 사용하며 [ ] 안에 세로인덱스와 가로 인덱스를 지정해주면 된다. \n",
        "a = [[10, 20], [30, 40], [50, 60]]\n",
        "a[0][0] # 0행0열  # 행 = 세로 , 열 = 가로 "
      ],
      "metadata": {
        "colab": {
          "base_uri": "https://localhost:8080/"
        },
        "id": "P6LncNF8J1BU",
        "outputId": "7e0ce5b1-3575-4369-9e13-515c2dd568eb"
      },
      "execution_count": 5,
      "outputs": [
        {
          "output_type": "execute_result",
          "data": {
            "text/plain": [
              "10"
            ]
          },
          "metadata": {},
          "execution_count": 5
        }
      ]
    },
    {
      "cell_type": "code",
      "source": [
        "a[1][1]"
      ],
      "metadata": {
        "colab": {
          "base_uri": "https://localhost:8080/"
        },
        "id": "ozJKxC-yKO9U",
        "outputId": "ef80ef1b-54cd-4965-9eff-21ff8ad395cf"
      },
      "execution_count": 6,
      "outputs": [
        {
          "output_type": "execute_result",
          "data": {
            "text/plain": [
              "40"
            ]
          },
          "metadata": {},
          "execution_count": 6
        }
      ]
    },
    {
      "cell_type": "code",
      "source": [
        "a[2][1]"
      ],
      "metadata": {
        "colab": {
          "base_uri": "https://localhost:8080/"
        },
        "id": "RVmNJ7PbKRoi",
        "outputId": "cbff43a7-8e4e-4da7-c657-a3e694fa1e78"
      },
      "execution_count": 7,
      "outputs": [
        {
          "output_type": "execute_result",
          "data": {
            "text/plain": [
              "60"
            ]
          },
          "metadata": {},
          "execution_count": 7
        }
      ]
    },
    {
      "cell_type": "code",
      "source": [
        "a[0][1]=1000 # 값 할당"
      ],
      "metadata": {
        "id": "e3-FDpBhKToH"
      },
      "execution_count": 9,
      "outputs": []
    },
    {
      "cell_type": "code",
      "source": [
        "a[0][1]"
      ],
      "metadata": {
        "colab": {
          "base_uri": "https://localhost:8080/"
        },
        "id": "rILQZCGeKVMj",
        "outputId": "6cfee4b6-2d41-46bf-8c1e-5ed5c617c554"
      },
      "execution_count": 10,
      "outputs": [
        {
          "output_type": "execute_result",
          "data": {
            "text/plain": [
              "1000"
            ]
          },
          "metadata": {},
          "execution_count": 10
        }
      ]
    },
    {
      "cell_type": "markdown",
      "source": [
        "# 톱니형 리스트 \n",
        "# 가로 크기가 불규칙한 톱니형 리스트\n",
        "\n",
        "- jagged list\n",
        "\n",
        "# 2차원 튜플\n",
        "- 튜플 안에 튜플\n",
        "- 튜플 안에 리스트\n",
        "- 리스트 안에 튜플"
      ],
      "metadata": {
        "id": "jJI6bWFWKm5C"
      }
    },
    {
      "cell_type": "code",
      "source": [
        ""
      ],
      "metadata": {
        "id": "V39giJagKZSb"
      },
      "execution_count": null,
      "outputs": []
    }
  ]
}