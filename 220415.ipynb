{
  "nbformat": 4,
  "nbformat_minor": 0,
  "metadata": {
    "colab": {
      "name": "220415.ipynb",
      "provenance": [],
      "authorship_tag": "ABX9TyP0CCJFhC//oS1itPPMmoxe",
      "include_colab_link": true
    },
    "kernelspec": {
      "name": "python3",
      "display_name": "Python 3"
    },
    "language_info": {
      "name": "python"
    }
  },
  "cells": [
    {
      "cell_type": "markdown",
      "metadata": {
        "id": "view-in-github",
        "colab_type": "text"
      },
      "source": [
        "<a href=\"https://colab.research.google.com/github/Nayoung999/Coding/blob/main/220415.ipynb\" target=\"_parent\"><img src=\"https://colab.research.google.com/assets/colab-badge.svg\" alt=\"Open In Colab\"/></a>"
      ]
    },
    {
      "cell_type": "code",
      "execution_count": 1,
      "metadata": {
        "colab": {
          "base_uri": "https://localhost:8080/"
        },
        "id": "tr44NVFF2i-k",
        "outputId": "006be742-3b6a-43b9-af19-efedbc90decb"
      },
      "outputs": [
        {
          "output_type": "stream",
          "name": "stdout",
          "text": [
            "10 20 \n",
            "30 40 \n",
            "50 60 \n"
          ]
        }
      ],
      "source": [
        "# in 앞에 변수의 개수는 2차원 리스트에서 가로 크기와 일치해야 하낟. \n",
        "# 특히 for 반복문을 한 번만 사용하는 방식은 2차원 리스트의 가로 크기가 크지 않을 때 유용하다.\n",
        "\n",
        "# 23.2.2  for 반복문 두 번 사용하기 \n",
        "\n",
        "a = [[10, 20], [30, 40], [50, 60]]\n",
        "\n",
        "for i in a: # a에서 안쪽 리스트를 꺼낸다.\n",
        "    for j in i :  # 안쪽 리스트에서 요소를 하나씩 꺼냄\n",
        "        print(j, end=' ')\n",
        "    print()"
      ]
    },
    {
      "cell_type": "code",
      "source": [
        "# 23.2.3 for와 range 사용하기 \n",
        "\n",
        "# 이번에는 for range에 세로 크기와 가로 크기를 지정해서 2차원 리스트의 요소를 인덱스로 접근하자. \n",
        "\n",
        "a = [[10, 20], [30, 40], [50, 60]]\n",
        "\n",
        "for i in range(len(a)):  #세로크기 \n",
        "    for j in range(len(a[i])):  #가로크기\n",
        "        print(a[i][j], end=' ')\n",
        "    print()"
      ],
      "metadata": {
        "colab": {
          "base_uri": "https://localhost:8080/"
        },
        "id": "CECAG7Dk2mrs",
        "outputId": "3ad2f1cd-9a2a-43df-fec1-424b9158b397"
      },
      "execution_count": 2,
      "outputs": [
        {
          "output_type": "stream",
          "name": "stdout",
          "text": [
            "10 20 \n",
            "30 40 \n",
            "50 60 \n"
          ]
        }
      ]
    },
    {
      "cell_type": "code",
      "source": [
        "# 23.2.4 while 반복문을 한 번 사용하기 \n",
        "a = [[10,20], [30, 40], [50, 60]]\n",
        "\n",
        "i = 0\n",
        "while i < len(a): # 반복할 때 리스트의 크기 활용(세로 크기)\n",
        "    x,y = a[i] # 요소 두 개를 한꺼번에 가져오기\n",
        "    print(x, y)\n",
        "    i += 1  # 인덱스를 1 증가시킴"
      ],
      "metadata": {
        "colab": {
          "base_uri": "https://localhost:8080/"
        },
        "id": "GT7m80xs3Tjy",
        "outputId": "9900ac5a-a24c-4f00-ddbb-154ca9430ccc"
      },
      "execution_count": 4,
      "outputs": [
        {
          "output_type": "stream",
          "name": "stdout",
          "text": [
            "10 20\n",
            "30 40\n",
            "50 60\n"
          ]
        }
      ]
    },
    {
      "cell_type": "code",
      "source": [
        "# 리스트에 인덱스를 지정하여 값을 꺼내 올 때는 다음과 같이 변수 두 개를 지정해주면 가로 한 줄에서 요소 두 개를 한꺼번에 가져올 수 있다.\n",
        "# x, y = a[i]\n",
        "# 요소를 가져왔으면 반드시 i +=1과 같이 인덱스를 1 증가시켜 준다. \n"
      ],
      "metadata": {
        "id": "jJ55hA5J4lWi"
      },
      "execution_count": 6,
      "outputs": []
    },
    {
      "cell_type": "code",
      "source": [
        "# 23.2.5 while 반복문을 두 번 사용하기 \n",
        "\n",
        "a = [[10, 20], [30, 40], [50, 60]]\n",
        "\n",
        "i = 0\n",
        "while i < len(a): #세로 크기\n",
        "    j = 0\n",
        "    while j < len(a[i]):\n",
        "        print(a[i][j], end=' ')\n",
        "        j += 1 #가로 인덱스 1 증가\n",
        "    print()\n",
        "    i += 1 #세로 인덱스 1 증가"
      ],
      "metadata": {
        "colab": {
          "base_uri": "https://localhost:8080/"
        },
        "id": "tYyA_1Hz44QB",
        "outputId": "eb6623fe-e8af-486e-f2ab-6c90e94ea058"
      },
      "execution_count": 8,
      "outputs": [
        {
          "output_type": "stream",
          "name": "stdout",
          "text": [
            "10 20 \n",
            "30 40 \n",
            "50 60 \n"
          ]
        }
      ]
    },
    {
      "cell_type": "code",
      "source": [
        "# 요소에 접근 할 때는 리스트[세로인덱스][가로인덱스] 형식으로 접근한다. \n",
        "# 세로 인덱스에 변수 i, 가로 인덱스에 변수 j를 지정해준다. \n",
        "# print(a[i][j]. end= ' ')\n",
        "\n",
        "# 요소를 가져왔으면 반드시 j += 1과 같이 가로 인덱스를 1 증가시켜 준다. 마찬가지로 바깥쪽 while에서는 i += 1과 같이 세로 인덱스를 1 증가시켜 준다. 이때 i += 1을 안쪽 while에서 수행하면 반복이 제대로 되지 않으므로 주의해야한다.\n",
        "i = 0\n",
        "while i < len(a):\n",
        "    j = 0\n",
        "    while j < len(a[i]):\n",
        "        print(a[i][j], end = ' ')\n",
        "        j += 1\n",
        "        i += 1 # 안쪽 while 에서 i를 증가시키면 안된다. 잘못된 방법이다. \n",
        "    print()"
      ],
      "metadata": {
        "colab": {
          "base_uri": "https://localhost:8080/",
          "height": 284
        },
        "id": "GUF8tc-T5N0w",
        "outputId": "e94ca243-1dde-48ac-fb0c-beb80e57676a"
      },
      "execution_count": 9,
      "outputs": [
        {
          "output_type": "stream",
          "name": "stdout",
          "text": [
            "10 40 \n",
            "50 "
          ]
        },
        {
          "output_type": "error",
          "ename": "IndexError",
          "evalue": "ignored",
          "traceback": [
            "\u001b[0;31m---------------------------------------------------------------------------\u001b[0m",
            "\u001b[0;31mIndexError\u001b[0m                                Traceback (most recent call last)",
            "\u001b[0;32m<ipython-input-9-0605ca938a86>\u001b[0m in \u001b[0;36m<module>\u001b[0;34m()\u001b[0m\n\u001b[1;32m      7\u001b[0m \u001b[0;32mwhile\u001b[0m \u001b[0mi\u001b[0m \u001b[0;34m<\u001b[0m \u001b[0mlen\u001b[0m\u001b[0;34m(\u001b[0m\u001b[0ma\u001b[0m\u001b[0;34m)\u001b[0m\u001b[0;34m:\u001b[0m\u001b[0;34m\u001b[0m\u001b[0;34m\u001b[0m\u001b[0m\n\u001b[1;32m      8\u001b[0m     \u001b[0mj\u001b[0m \u001b[0;34m=\u001b[0m \u001b[0;36m0\u001b[0m\u001b[0;34m\u001b[0m\u001b[0;34m\u001b[0m\u001b[0m\n\u001b[0;32m----> 9\u001b[0;31m     \u001b[0;32mwhile\u001b[0m \u001b[0mj\u001b[0m \u001b[0;34m<\u001b[0m \u001b[0mlen\u001b[0m\u001b[0;34m(\u001b[0m\u001b[0ma\u001b[0m\u001b[0;34m[\u001b[0m\u001b[0mi\u001b[0m\u001b[0;34m]\u001b[0m\u001b[0;34m)\u001b[0m\u001b[0;34m:\u001b[0m\u001b[0;34m\u001b[0m\u001b[0;34m\u001b[0m\u001b[0m\n\u001b[0m\u001b[1;32m     10\u001b[0m         \u001b[0mprint\u001b[0m\u001b[0;34m(\u001b[0m\u001b[0ma\u001b[0m\u001b[0;34m[\u001b[0m\u001b[0mi\u001b[0m\u001b[0;34m]\u001b[0m\u001b[0;34m[\u001b[0m\u001b[0mj\u001b[0m\u001b[0;34m]\u001b[0m\u001b[0;34m,\u001b[0m \u001b[0mend\u001b[0m \u001b[0;34m=\u001b[0m \u001b[0;34m' '\u001b[0m\u001b[0;34m)\u001b[0m\u001b[0;34m\u001b[0m\u001b[0;34m\u001b[0m\u001b[0m\n\u001b[1;32m     11\u001b[0m         \u001b[0mj\u001b[0m \u001b[0;34m+=\u001b[0m \u001b[0;36m1\u001b[0m\u001b[0;34m\u001b[0m\u001b[0;34m\u001b[0m\u001b[0m\n",
            "\u001b[0;31mIndexError\u001b[0m: list index out of range"
          ]
        }
      ]
    },
    {
      "cell_type": "markdown",
      "source": [
        "# 23.3 반복문으로 리스트 만들기\n",
        "\n",
        "for 반복문과 append를 활용하여 리스트를 만드는 방법을 알아보자.\n"
      ],
      "metadata": {
        "id": "YwnNKe2S6dlR"
      }
    },
    {
      "cell_type": "code",
      "source": [
        "# 23.3.1 for 반복문으로 1차원 리스트 만들기\n",
        "\n",
        "a = []  # 빈 리스트 생성\n",
        "\n",
        "for i in range(10): # 10번 반복하면서 append 로 요소를 추가하는 것 \n",
        "    a.append(0) #append로 요소 추가\n",
        "\n",
        "print(a)"
      ],
      "metadata": {
        "colab": {
          "base_uri": "https://localhost:8080/"
        },
        "id": "fiwzROGS6PgQ",
        "outputId": "2c62f971-e258-47ae-da18-685e98c11bb4"
      },
      "execution_count": 10,
      "outputs": [
        {
          "output_type": "stream",
          "name": "stdout",
          "text": [
            "[0, 0, 0, 0, 0, 0, 0, 0, 0, 0]\n"
          ]
        }
      ]
    },
    {
      "cell_type": "code",
      "source": [
        "# 23.3.2 for 반복문으로 2차원 리스트 만들기 \n",
        "a = []\n",
        "\n",
        "for i in range(3):\n",
        "    line = []   # 안쪽 리스트로 사용할 빈 리스트 생성\n",
        "    for j in range(2):\n",
        "        line.append(0)    # 안쪽 리스트에 0 추가\n",
        "    a.append(line)        # 전체 리스트에 안쪽 리스트를 추가\n",
        "  \n",
        "print(a)"
      ],
      "metadata": {
        "colab": {
          "base_uri": "https://localhost:8080/"
        },
        "id": "15QwX3il6tIg",
        "outputId": "b7403354-4cdd-4045-f3e0-16f1be57a734"
      },
      "execution_count": 11,
      "outputs": [
        {
          "output_type": "stream",
          "name": "stdout",
          "text": [
            "[[0, 0], [0, 0], [0, 0]]\n"
          ]
        }
      ]
    },
    {
      "cell_type": "code",
      "source": [
        "for i in range(3):\n",
        "    line = [] # 안쪽 리스트로 사용할 빈 리스트 생성"
      ],
      "metadata": {
        "id": "LXIPjPAw7CXw"
      },
      "execution_count": null,
      "outputs": []
    }
  ]
}