{
  "nbformat": 4,
  "nbformat_minor": 0,
  "metadata": {
    "colab": {
      "name": "코딩도장 22.ipynb",
      "provenance": [],
      "collapsed_sections": [],
      "authorship_tag": "ABX9TyOAcNzRrn5gQHn+wBLF8hpP",
      "include_colab_link": true
    },
    "kernelspec": {
      "name": "python3",
      "display_name": "Python 3"
    },
    "language_info": {
      "name": "python"
    }
  },
  "cells": [
    {
      "cell_type": "markdown",
      "metadata": {
        "id": "view-in-github",
        "colab_type": "text"
      },
      "source": [
        "<a href=\"https://colab.research.google.com/github/Nayoung999/Coding/blob/main/%EC%BD%94%EB%94%A9%EB%8F%84%EC%9E%A5_22.ipynb\" target=\"_parent\"><img src=\"https://colab.research.google.com/assets/colab-badge.svg\" alt=\"Open In Colab\"/></a>"
      ]
    },
    {
      "cell_type": "markdown",
      "source": [
        "# 22. list와 tuple 응용하기 "
      ],
      "metadata": {
        "id": "9ny-FtS_ebUc"
      }
    },
    {
      "cell_type": "code",
      "source": [
        "# 22.1 리스트 조작하기 \n",
        "# method : 리스트 조작\n",
        "# = 객체에 속한 함수. \n",
        "#22.1.1 리스트에 요소 추가하기 \n",
        "# .append(요소 하나추가) .extend(리스트를 연결하여 확장)  .insert(특정인덱스에 요소 추가)\n",
        "#22.1.2 리스트에 요소 하나 추가하기 \n",
        "a = [10, 20, 30]\n",
        "a.append(500)\n",
        "a"
      ],
      "metadata": {
        "colab": {
          "base_uri": "https://localhost:8080/"
        },
        "id": "X2A7k93h7VGe",
        "outputId": "85c1cf1d-255d-448a-cc87-a7ac3116ee93"
      },
      "execution_count": 3,
      "outputs": [
        {
          "output_type": "execute_result",
          "data": {
            "text/plain": [
              "[10, 20, 30, 500]"
            ]
          },
          "metadata": {},
          "execution_count": 3
        }
      ]
    },
    {
      "cell_type": "code",
      "source": [
        "len(a)"
      ],
      "metadata": {
        "colab": {
          "base_uri": "https://localhost:8080/"
        },
        "id": "7QPgsne4e76Y",
        "outputId": "2c2fc079-4548-474f-ceea-0cf872ec1da1"
      },
      "execution_count": 4,
      "outputs": [
        {
          "output_type": "execute_result",
          "data": {
            "text/plain": [
              "4"
            ]
          },
          "metadata": {},
          "execution_count": 4
        }
      ]
    },
    {
      "cell_type": "code",
      "source": [
        "a = []"
      ],
      "metadata": {
        "id": "QHO9E3Bqe-Vf"
      },
      "execution_count": 5,
      "outputs": []
    },
    {
      "cell_type": "code",
      "source": [
        "a.append(10)\n",
        "a"
      ],
      "metadata": {
        "colab": {
          "base_uri": "https://localhost:8080/"
        },
        "id": "Ac_2AZ7yfC_9",
        "outputId": "53924f8c-8348-4e74-b72b-70d5ad439cbf"
      },
      "execution_count": 6,
      "outputs": [
        {
          "output_type": "execute_result",
          "data": {
            "text/plain": [
              "[10]"
            ]
          },
          "metadata": {},
          "execution_count": 6
        }
      ]
    },
    {
      "cell_type": "code",
      "source": [
        "# 22.1.3 리스트 안에 리스트 추가하기\n",
        "a = [10, 20, 30]\n",
        "a.append([500, 600])\n",
        "a"
      ],
      "metadata": {
        "colab": {
          "base_uri": "https://localhost:8080/"
        },
        "id": "In3FJ0HjfEqx",
        "outputId": "b1f01df0-2f0b-4459-9a38-7e38c4f5e665"
      },
      "execution_count": 7,
      "outputs": [
        {
          "output_type": "execute_result",
          "data": {
            "text/plain": [
              "[10, 20, 30, [500, 600]]"
            ]
          },
          "metadata": {},
          "execution_count": 7
        }
      ]
    },
    {
      "cell_type": "code",
      "source": [
        "len(a)"
      ],
      "metadata": {
        "colab": {
          "base_uri": "https://localhost:8080/"
        },
        "id": "xHK2-aOefOgF",
        "outputId": "70f3047f-52f6-495a-c44c-cb0f1afb0807"
      },
      "execution_count": 8,
      "outputs": [
        {
          "output_type": "execute_result",
          "data": {
            "text/plain": [
              "4"
            ]
          },
          "metadata": {},
          "execution_count": 8
        }
      ]
    },
    {
      "cell_type": "code",
      "source": [
        "# [500.600]이라는 요소 하나를 리스트 a끝에 추가했다. 그래서 리스트 a의 총 합은 4가 나온다."
      ],
      "metadata": {
        "id": "OCCZRldjfP4t"
      },
      "execution_count": 9,
      "outputs": []
    },
    {
      "cell_type": "code",
      "source": [
        "# 22.1.4 리스트 확장하기 \n",
        "# append는 항상 리스트의 길이가 1씩 증가한다. \n",
        "# extend는 추가할 요소가 많은 경우 사용한다. \n",
        "# extend(list) : 리스트에 다른 리스트를 연결해서 확장한다. \n",
        "\n",
        "a = [10, 20, 30]\n",
        "a.extend([500, 600])\n",
        "a"
      ],
      "metadata": {
        "colab": {
          "base_uri": "https://localhost:8080/"
        },
        "id": "YEY3u7nbfW1A",
        "outputId": "e34e22d6-acbb-4ea6-866b-c10ec158e5d5"
      },
      "execution_count": 10,
      "outputs": [
        {
          "output_type": "execute_result",
          "data": {
            "text/plain": [
              "[10, 20, 30, 500, 600]"
            ]
          },
          "metadata": {},
          "execution_count": 10
        }
      ]
    },
    {
      "cell_type": "code",
      "source": [
        "len(a)"
      ],
      "metadata": {
        "colab": {
          "base_uri": "https://localhost:8080/"
        },
        "id": "yOpGxPdjf8MI",
        "outputId": "33aa4c61-51a1-413b-a3dd-f944b4827b4a"
      },
      "execution_count": 11,
      "outputs": [
        {
          "output_type": "execute_result",
          "data": {
            "text/plain": [
              "5"
            ]
          },
          "metadata": {},
          "execution_count": 11
        }
      ]
    },
    {
      "cell_type": "code",
      "source": [
        "a = [10, 20, 30]\n",
        "a.insert(2, 500)\n",
        "a"
      ],
      "metadata": {
        "colab": {
          "base_uri": "https://localhost:8080/"
        },
        "id": "C1F8rEX1f971",
        "outputId": "e27f5d71-ed8b-4cab-8c88-d64eca31bcb7"
      },
      "execution_count": 12,
      "outputs": [
        {
          "output_type": "execute_result",
          "data": {
            "text/plain": [
              "[10, 20, 500, 30]"
            ]
          },
          "metadata": {},
          "execution_count": 12
        }
      ]
    },
    {
      "cell_type": "code",
      "source": [
        "len(a)"
      ],
      "metadata": {
        "colab": {
          "base_uri": "https://localhost:8080/"
        },
        "id": "IS_bQTB7gK5e",
        "outputId": "e883f716-6329-4e7a-9ed3-6f13bef302b5"
      },
      "execution_count": 13,
      "outputs": [
        {
          "output_type": "execute_result",
          "data": {
            "text/plain": [
              "4"
            ]
          },
          "metadata": {},
          "execution_count": 13
        }
      ]
    },
    {
      "cell_type": "markdown",
      "source": [
        "## insert에서 자주 사용하는 패턴은?\n",
        "- insert(0, 요소) : 리스트의 맨 처음에 요소를 추가 \n",
        "- insert(len(리스트), 요소)"
      ],
      "metadata": {
        "id": "EcxKVmcugNhH"
      }
    },
    {
      "cell_type": "code",
      "source": [
        "a = [10, 20, 30]\n",
        "a.insert(0, 500)\n",
        "a"
      ],
      "metadata": {
        "colab": {
          "base_uri": "https://localhost:8080/"
        },
        "id": "FKgnjnxHgL0v",
        "outputId": "92e69999-10c1-422b-9c2d-1b9338b0a0c2"
      },
      "execution_count": 14,
      "outputs": [
        {
          "output_type": "execute_result",
          "data": {
            "text/plain": [
              "[500, 10, 20, 30]"
            ]
          },
          "metadata": {},
          "execution_count": 14
        }
      ]
    },
    {
      "cell_type": "code",
      "source": [
        "\n",
        "a = [10, 20, 30]\n",
        "a.insert(0, 500)\n",
        "a"
      ],
      "metadata": {
        "colab": {
          "base_uri": "https://localhost:8080/"
        },
        "id": "9evHtoDEgbZs",
        "outputId": "46a59685-00db-43c9-808e-f5ab48597097"
      },
      "execution_count": 15,
      "outputs": [
        {
          "output_type": "execute_result",
          "data": {
            "text/plain": [
              "[500, 10, 20, 30]"
            ]
          },
          "metadata": {},
          "execution_count": 15
        }
      ]
    },
    {
      "cell_type": "code",
      "source": [
        "# insert에 마지막 인덱스보다 큰 값을 지정하면 리스트 끝에 요소를 추가할 수 있다. \n",
        "a = [10, 20, 30]\n",
        "a.insert(len(a), 500)\n",
        "a\n",
        "\n",
        "# len(list)는 마지막 인덱스보다 1이 더 크기 때문에 리스트 끝에 값을 추가할 때 자주 활용한다. \n",
        "# 사실 이 방법은 a.append(500)이랑 같다."
      ],
      "metadata": {
        "colab": {
          "base_uri": "https://localhost:8080/"
        },
        "id": "ggZIU9TegmPR",
        "outputId": "e7696e4c-5ac7-403f-8d64-00d6ec9c6a70"
      },
      "execution_count": 17,
      "outputs": [
        {
          "output_type": "execute_result",
          "data": {
            "text/plain": [
              "[10, 20, 30, 500]"
            ]
          },
          "metadata": {},
          "execution_count": 17
        }
      ]
    },
    {
      "cell_type": "code",
      "source": [
        "a = [10, 20, 30]\n",
        "a.insert(1, [500, 600])\n",
        "a"
      ],
      "metadata": {
        "colab": {
          "base_uri": "https://localhost:8080/"
        },
        "id": "g27BuEYOg7vY",
        "outputId": "465102c4-57c5-492a-e50d-55bd91ec2870"
      },
      "execution_count": 18,
      "outputs": [
        {
          "output_type": "execute_result",
          "data": {
            "text/plain": [
              "[10, [500, 600], 20, 30]"
            ]
          },
          "metadata": {},
          "execution_count": 18
        }
      ]
    },
    {
      "cell_type": "code",
      "source": [
        "a = [10, 20, 30]\n",
        "a[1:1] = [500, 600]  # 시작 인덱스와 끝 인덱스를 같게 지정하면 해당\n",
        "a  # 해당 인덱스의 요소를 덮어쓰지 않으면서 요소 여러 개를 중간에 추가할 수 있다."
      ],
      "metadata": {
        "colab": {
          "base_uri": "https://localhost:8080/"
        },
        "id": "bp9ZC0p6iJFx",
        "outputId": "87715d3f-ed8b-41c0-e7ce-27a19094ee66"
      },
      "execution_count": 20,
      "outputs": [
        {
          "output_type": "execute_result",
          "data": {
            "text/plain": [
              "[10, 500, 600, 20, 30]"
            ]
          },
          "metadata": {},
          "execution_count": 20
        }
      ]
    },
    {
      "cell_type": "code",
      "source": [
        "#22.1.6 리스트에서 요소 삭제하기\n",
        "# pop : 마지막 요소 또는 특정 인덱스의 요소를 삭제 \n",
        "# remove : 특정 값을 찾아서 삭제 "
      ],
      "metadata": {
        "id": "d1SrM9ybiTn2"
      },
      "execution_count": 21,
      "outputs": []
    },
    {
      "cell_type": "code",
      "source": [
        "# 22. 1.7. 리스트에서 특정 인덱스의 요소를 삭제하기 \n",
        "# pop()은 리스트의 마지막 요소를 삭제한 뒤 삭제한 요소를 반환한다. \n",
        "# 그냥 꺼내는거!\n",
        "a = [10, 20, 30]\n",
        "a.pop()"
      ],
      "metadata": {
        "colab": {
          "base_uri": "https://localhost:8080/"
        },
        "id": "1PzUWolfi_3f",
        "outputId": "ee742807-6b36-47e8-8ffa-ef89d6b6150c"
      },
      "execution_count": 22,
      "outputs": [
        {
          "output_type": "execute_result",
          "data": {
            "text/plain": [
              "30"
            ]
          },
          "metadata": {},
          "execution_count": 22
        }
      ]
    },
    {
      "cell_type": "code",
      "source": [
        "a"
      ],
      "metadata": {
        "colab": {
          "base_uri": "https://localhost:8080/"
        },
        "id": "DdYXkJGKjuWh",
        "outputId": "889105c0-fbc8-4348-b186-a247a45f8e50"
      },
      "execution_count": 23,
      "outputs": [
        {
          "output_type": "execute_result",
          "data": {
            "text/plain": [
              "[10, 20]"
            ]
          },
          "metadata": {},
          "execution_count": 23
        }
      ]
    },
    {
      "cell_type": "code",
      "source": [
        "# pop(index) = 원하는 걸 꺼낼 수 있다. \n",
        "a = [10, 20, 30]\n",
        "a.pop(1)"
      ],
      "metadata": {
        "colab": {
          "base_uri": "https://localhost:8080/"
        },
        "id": "U882jW7Ajuzy",
        "outputId": "d6cd8ab8-82a2-4f3a-d48f-0d762ac2afa6"
      },
      "execution_count": 24,
      "outputs": [
        {
          "output_type": "execute_result",
          "data": {
            "text/plain": [
              "20"
            ]
          },
          "metadata": {},
          "execution_count": 24
        }
      ]
    },
    {
      "cell_type": "code",
      "source": [
        "a"
      ],
      "metadata": {
        "colab": {
          "base_uri": "https://localhost:8080/"
        },
        "id": "lq9Hu04bkOI9",
        "outputId": "27e75dff-921d-4975-ac86-c69bba94d119"
      },
      "execution_count": 25,
      "outputs": [
        {
          "output_type": "execute_result",
          "data": {
            "text/plain": [
              "[10, 30]"
            ]
          },
          "metadata": {},
          "execution_count": 25
        }
      ]
    },
    {
      "cell_type": "code",
      "source": [
        "# you can use 'del' instead of 'pop'\n",
        "a = [10, 20, 30]\n",
        "del a[1]\n",
        "a"
      ],
      "metadata": {
        "colab": {
          "base_uri": "https://localhost:8080/"
        },
        "id": "vIXhGAAHkOwE",
        "outputId": "09794e5a-add9-4d58-b4eb-5b893941eba7"
      },
      "execution_count": 26,
      "outputs": [
        {
          "output_type": "execute_result",
          "data": {
            "text/plain": [
              "[10, 30]"
            ]
          },
          "metadata": {},
          "execution_count": 26
        }
      ]
    },
    {
      "cell_type": "code",
      "source": [
        "# 22.1.8 리스트에서 특정 값을 찾아서 삭제하기 \n",
        "# remove(값)\n",
        "a = [10, 20, 30]\n",
        "a.remove(20)\n",
        "a"
      ],
      "metadata": {
        "colab": {
          "base_uri": "https://localhost:8080/"
        },
        "id": "7Kn6eNZ9kVfj",
        "outputId": "ee1dc48e-86a0-4db0-e4ed-77d2f1166a80"
      },
      "execution_count": 27,
      "outputs": [
        {
          "output_type": "execute_result",
          "data": {
            "text/plain": [
              "[10, 30]"
            ]
          },
          "metadata": {},
          "execution_count": 27
        }
      ]
    },
    {
      "cell_type": "code",
      "source": [
        "a = [10, 20, 30, 20]\n",
        "a.remove(20)\n",
        "a # list에 a가 2개 있지만, 가장 처음 찾은 인덱스1의 20만 삭제한다."
      ],
      "metadata": {
        "colab": {
          "base_uri": "https://localhost:8080/"
        },
        "id": "j6imuJHwk_7_",
        "outputId": "1a4bd702-5450-44b8-f366-4bbd8c0c6e84"
      },
      "execution_count": 28,
      "outputs": [
        {
          "output_type": "execute_result",
          "data": {
            "text/plain": [
              "[10, 30, 20]"
            ]
          },
          "metadata": {},
          "execution_count": 28
        }
      ]
    },
    {
      "cell_type": "markdown",
      "source": [
        "# 리스트로 스택과 큐 만들기\n",
        "- pop() 대신 pop(0)을 사용하면 큐가 된다. \n",
        "- 덱은 양쪽 끝에서 추가/삭제가 가능한 자료 구조이다. \n",
        "\n"
      ],
      "metadata": {
        "id": "6W4bc4ablabQ"
      }
    },
    {
      "cell_type": "code",
      "source": [
        "# deque(반복 가능한 객체) 양쪽 끝에서 추가/삭제가 가능한 자료 구조.\n",
        "\n",
        "from collections import deque\n",
        "a = deque([10, 20, 30])\n",
        "a"
      ],
      "metadata": {
        "colab": {
          "base_uri": "https://localhost:8080/"
        },
        "id": "aapK6V-1lFBK",
        "outputId": "9d07164f-6037-4ff9-fdf5-03d03c2e9245"
      },
      "execution_count": 29,
      "outputs": [
        {
          "output_type": "execute_result",
          "data": {
            "text/plain": [
              "deque([10, 20, 30])"
            ]
          },
          "metadata": {},
          "execution_count": 29
        }
      ]
    },
    {
      "cell_type": "code",
      "source": [
        "a.append(500)\n",
        "a\n"
      ],
      "metadata": {
        "colab": {
          "base_uri": "https://localhost:8080/"
        },
        "id": "VPAb3shXl3_t",
        "outputId": "2ff88d1c-53af-418a-99d7-c69ff62f3976"
      },
      "execution_count": 30,
      "outputs": [
        {
          "output_type": "execute_result",
          "data": {
            "text/plain": [
              "deque([10, 20, 30, 500])"
            ]
          },
          "metadata": {},
          "execution_count": 30
        }
      ]
    },
    {
      "cell_type": "code",
      "source": [
        "a.popleft() # deque의 왼쪽 요소 하나 삭제\n",
        "a"
      ],
      "metadata": {
        "colab": {
          "base_uri": "https://localhost:8080/"
        },
        "id": "HxkATdQOmC1N",
        "outputId": "34595c49-737e-4f0a-b246-6e41703fb1a5"
      },
      "execution_count": 31,
      "outputs": [
        {
          "output_type": "execute_result",
          "data": {
            "text/plain": [
              "deque([20, 30, 500])"
            ]
          },
          "metadata": {},
          "execution_count": 31
        }
      ]
    },
    {
      "cell_type": "code",
      "source": [
        "# deque.append는 덱의 오른쪽에 요소를 추가하고 \n",
        "# deque.popleft는 덱의 왼쪽 요소를 삭제한다. \n",
        "# deque.appendleft는 덱의 왼쪽에 요소를 추가하고 \n",
        "# deque.pop으로 덱의 오른쪽 요소를 삭제할 수도 있다. "
      ],
      "metadata": {
        "id": "1ozMWhB-mI8V"
      },
      "execution_count": 32,
      "outputs": []
    },
    {
      "cell_type": "code",
      "source": [
        "# 22.1.9 리스트에서 특정 값의 인덱스 구하기 \n",
        "# index(값)은 리스트에서 특정 값의 인덱스를 구한다.\n",
        "# 같은 값일 경우 처음 찾은 인덱스를 구한다 (가장 작은 인덱스)\n",
        "\n",
        "a = [10, 20, 30, 15, 20, 40]\n",
        "a.index(20)"
      ],
      "metadata": {
        "colab": {
          "base_uri": "https://localhost:8080/"
        },
        "id": "5aY_ogP3oXEn",
        "outputId": "b76590fd-fa74-46e3-dedd-33ef25060575"
      },
      "execution_count": 33,
      "outputs": [
        {
          "output_type": "execute_result",
          "data": {
            "text/plain": [
              "1"
            ]
          },
          "metadata": {},
          "execution_count": 33
        }
      ]
    },
    {
      "cell_type": "code",
      "source": [
        "# 22.1.10. 특정 값의 개수 구하기 \n",
        "a = [10, 20, 15, 20, 40]\n",
        "a.count(20)"
      ],
      "metadata": {
        "colab": {
          "base_uri": "https://localhost:8080/"
        },
        "id": "zreu4I_Lokos",
        "outputId": "d1e69639-5ce8-4097-b0b8-fc31dc7a3b6b"
      },
      "execution_count": 2,
      "outputs": [
        {
          "output_type": "execute_result",
          "data": {
            "text/plain": [
              "2"
            ]
          },
          "metadata": {},
          "execution_count": 2
        }
      ]
    },
    {
      "cell_type": "code",
      "source": [
        "# 22.1.11 리스트 순서 뒤집기\n",
        "# reverse()\n",
        "a = [10, 20, 30, 15, 20, 40]\n",
        "a.reverse()\n",
        "a"
      ],
      "metadata": {
        "colab": {
          "base_uri": "https://localhost:8080/"
        },
        "id": "EW6Xxcc8yUOT",
        "outputId": "fae9d352-8b4b-4757-9a60-7f692a747222"
      },
      "execution_count": 3,
      "outputs": [
        {
          "output_type": "execute_result",
          "data": {
            "text/plain": [
              "[40, 20, 15, 30, 20, 10]"
            ]
          },
          "metadata": {},
          "execution_count": 3
        }
      ]
    },
    {
      "cell_type": "code",
      "source": [
        "# 22.1.12 리스트의 요소를 정렬하기 \n",
        "\n",
        "# sort() : 리스트의 요소를 작은 순서대로 정렬한다(오름차순)\n",
        "# sort() 또는 sort(reverse=False) (오름차순)\n",
        "# sort(reverse=True) (내림차순)\n",
        "\n",
        "a = [10, 20, 30, 15, 20, 40]\n",
        "a.sort()\n",
        "a"
      ],
      "metadata": {
        "colab": {
          "base_uri": "https://localhost:8080/"
        },
        "id": "0TVUQsnhzkj1",
        "outputId": "20aaec5f-9a65-4dc1-bd75-13a896411215"
      },
      "execution_count": 4,
      "outputs": [
        {
          "output_type": "execute_result",
          "data": {
            "text/plain": [
              "[10, 15, 20, 20, 30, 40]"
            ]
          },
          "metadata": {},
          "execution_count": 4
        }
      ]
    },
    {
      "cell_type": "markdown",
      "source": [
        "### 참고 sort method vs. sorted function\n",
        "\n",
        "- sort는 메서드를 사용한 리스트를 변경\n",
        "- sorted는 정렬된 새 리스트를 생성"
      ],
      "metadata": {
        "id": "n81Y0eAK3CaC"
      }
    },
    {
      "cell_type": "code",
      "source": [
        "a = [10, 20, 30, 15, 20, 40]\n",
        "a.sort() #내용을 변경하여 정렬\n",
        "a"
      ],
      "metadata": {
        "colab": {
          "base_uri": "https://localhost:8080/"
        },
        "id": "7pd2gGLW3BMH",
        "outputId": "087d27ac-7745-42ae-bd09-b54ca704339b"
      },
      "execution_count": 6,
      "outputs": [
        {
          "output_type": "execute_result",
          "data": {
            "text/plain": [
              "[10, 15, 20, 20, 30, 40]"
            ]
          },
          "metadata": {},
          "execution_count": 6
        }
      ]
    },
    {
      "cell_type": "code",
      "source": [
        "b = [10, 20, 30, 15, 20, 40]\n",
        "sorted(b)  # 정렬된 새 리스트를 생성"
      ],
      "metadata": {
        "colab": {
          "base_uri": "https://localhost:8080/"
        },
        "id": "mPeZu2iV3Q53",
        "outputId": "91913424-2087-4397-ba62-e106741e5d34"
      },
      "execution_count": 7,
      "outputs": [
        {
          "output_type": "execute_result",
          "data": {
            "text/plain": [
              "[10, 15, 20, 20, 30, 40]"
            ]
          },
          "metadata": {},
          "execution_count": 7
        }
      ]
    },
    {
      "cell_type": "code",
      "source": [
        "# 22.1.13 리스트의 모든 요소를 삭제하기 \n",
        "# clear()는 리스트의 모든 요소를 삭제합니다. \n",
        "a = [10, 20, 30]\n",
        "a.clear()\n",
        "a"
      ],
      "metadata": {
        "colab": {
          "base_uri": "https://localhost:8080/"
        },
        "id": "XIBm1Tlf3btF",
        "outputId": "76d019e8-0ac9-4fd8-98f8-c5a8fc475fd0"
      },
      "execution_count": 8,
      "outputs": [
        {
          "output_type": "execute_result",
          "data": {
            "text/plain": [
              "[]"
            ]
          },
          "metadata": {},
          "execution_count": 8
        }
      ]
    },
    {
      "cell_type": "code",
      "source": [
        "# clear 대신 del a[:]와 같이 시작, 끝 인덱스를 생략하여 리스트의 모든 요소를 삭제할 수도 있습니다.\n",
        "a = [10, 20, 30]\n",
        "del a[:]\n",
        "a"
      ],
      "metadata": {
        "colab": {
          "base_uri": "https://localhost:8080/"
        },
        "id": "MRKsnr4k3t87",
        "outputId": "e8151b34-8dac-4776-927e-68fb07c8cc1b"
      },
      "execution_count": 9,
      "outputs": [
        {
          "output_type": "execute_result",
          "data": {
            "text/plain": [
              "[]"
            ]
          },
          "metadata": {},
          "execution_count": 9
        }
      ]
    },
    {
      "cell_type": "code",
      "source": [
        "# 22.1.14 리스트를 슬라이스로 조작하기 \n",
        "# 리스트는 메서드를 사용하지 않고, 슬라이스로 조작할 수도 있다. \n",
        "# 다음은 리스트 끝에 값이 한 개 들어 있는 리스트를 추가한다. \n",
        "\n",
        "a = [10, 20, 30]\n",
        "a[len(a):] = [500]\n",
        "a\n",
        "\n",
        "\n",
        "# 여기서 a[len(a):]는 시작 인덱스를 len(a)로 지정해서 리스트의 마지막 인덱스보다 1이 더 큰 상태이다.\n",
        "# 즉, 리스트 끝에서부터 시작하겠다는 것이다. "
      ],
      "metadata": {
        "colab": {
          "base_uri": "https://localhost:8080/"
        },
        "id": "uMzZveqd32Ys",
        "outputId": "ea8f5aba-8ff4-49bb-bf19-9cac6e143db7"
      },
      "execution_count": 10,
      "outputs": [
        {
          "output_type": "execute_result",
          "data": {
            "text/plain": [
              "[10, 20, 30, 500]"
            ]
          },
          "metadata": {},
          "execution_count": 10
        }
      ]
    },
    {
      "cell_type": "code",
      "source": [
        "# 참고. 리스트가 비어 있는지 확인하자. \n",
        "# 리스트(시퀀스 객체)가 비어 있는지 확인하려면 어떻게 해야할까\n",
        "\n",
        "# if not len(seq): #리스트가 비어 있으면 True\n",
        "# if len(seq): # 리스트에 요소가 있으면 True\n",
        "\n",
        "# 위의 방법보다 리스트를 바로 if 조건문으로 판단하는 방법도 좋다. \n",
        "\n",
        "# if not seq: # 리스트가 비어 있으면 True\n",
        "# if seq: # 리스트에 내용이 있으면 True\n",
        "\n",
        "# 리스트가 비어 있는지 확인하는 방법은 리스트의 마지막 요소에 접근할 때 유용하게 사용할 수 있다. \n",
        "# 리스트의 마지막 요소에 접근할 때는 인덱스를 -1으로 지정하면 된다. \n",
        "\n",
        "seq = [10, 20, 30]\n",
        "seq[-1]\n"
      ],
      "metadata": {
        "colab": {
          "base_uri": "https://localhost:8080/"
        },
        "id": "R_aZFqHS4Ht9",
        "outputId": "f43a6e92-e68b-4034-a60c-a2ad6692c72c"
      },
      "execution_count": 12,
      "outputs": [
        {
          "output_type": "execute_result",
          "data": {
            "text/plain": [
              "30"
            ]
          },
          "metadata": {},
          "execution_count": 12
        }
      ]
    },
    {
      "cell_type": "code",
      "source": [
        "# 만약 리스트가 비어 있는 경우에는 인덱스를 -1으로 지정하면 에러가 발생한다. \n",
        " a = []\n",
        " a[-1]\n",
        " "
      ],
      "metadata": {
        "colab": {
          "base_uri": "https://localhost:8080/",
          "height": 139
        },
        "id": "39LfkxRM-Kgj",
        "outputId": "7323748c-3ca5-48ca-e235-672136c27a09"
      },
      "execution_count": 13,
      "outputs": [
        {
          "output_type": "error",
          "ename": "IndentationError",
          "evalue": "ignored",
          "traceback": [
            "\u001b[0;36m  File \u001b[0;32m\"<ipython-input-13-c657b7b419dc>\"\u001b[0;36m, line \u001b[0;32m2\u001b[0m\n\u001b[0;31m    a = []\u001b[0m\n\u001b[0m    ^\u001b[0m\n\u001b[0;31mIndentationError\u001b[0m\u001b[0;31m:\u001b[0m unexpected indent\n"
          ]
        }
      ]
    },
    {
      "cell_type": "code",
      "source": [
        "# if 조건문을 활용하여 리스트에 요소가 있을 때만 마지막 요소를 가져오면 된다. \n",
        "\n",
        "seq = []\n",
        "if seq:   # 리스트에 요소가 있는지 확인\n",
        "    print(seq[-1])  # 요소가 있을 때만 마지막 요소를 가져온다. "
      ],
      "metadata": {
        "id": "uApWpQOO-sYW"
      },
      "execution_count": 14,
      "outputs": []
    },
    {
      "cell_type": "code",
      "source": [
        "# 리스트의 할당과 복사 알아보기 \n",
        "a = [0,0,0,0,0]\n",
        "b = a # 리스트를 만든 후에 다시 다른 변수에 할당한다. "
      ],
      "metadata": {
        "id": "wW8p8YyU-8Xm"
      },
      "execution_count": 16,
      "outputs": []
    },
    {
      "cell_type": "code",
      "source": [
        "a is b"
      ],
      "metadata": {
        "colab": {
          "base_uri": "https://localhost:8080/"
        },
        "id": "6y81rvtBiFNd",
        "outputId": "1725bab0-ceb3-4ca4-c6b9-bd8e49ced250"
      },
      "execution_count": 17,
      "outputs": [
        {
          "output_type": "execute_result",
          "data": {
            "text/plain": [
              "True"
            ]
          },
          "metadata": {},
          "execution_count": 17
        }
      ]
    },
    {
      "cell_type": "code",
      "source": [
        "# a is b = True\n",
        "# a와 b는 같은 것이다. 리스트 b의 요소를 변경해도 a와 b 동시에 모두 반영된다. "
      ],
      "metadata": {
        "id": "z5V0zrOOjVJo"
      },
      "execution_count": 18,
      "outputs": []
    },
    {
      "cell_type": "code",
      "source": [
        "# 개별적인 리스트 두 개를 만들려면 copy를 이용해야한다. \n",
        "\n",
        "a = [0, 0, 0, 0, 0]\n",
        "b = a.copy()\n",
        "b"
      ],
      "metadata": {
        "colab": {
          "base_uri": "https://localhost:8080/"
        },
        "id": "qXRfHbe7pW4q",
        "outputId": "d7c46d5e-8b68-4222-f6f5-1fbc3001f68e"
      },
      "execution_count": 20,
      "outputs": [
        {
          "output_type": "execute_result",
          "data": {
            "text/plain": [
              "[0, 0, 0, 0, 0]"
            ]
          },
          "metadata": {},
          "execution_count": 20
        }
      ]
    },
    {
      "cell_type": "code",
      "source": [
        "a==b"
      ],
      "metadata": {
        "colab": {
          "base_uri": "https://localhost:8080/"
        },
        "id": "l63ehlnNpgJb",
        "outputId": "20c048bd-9148-4ef2-bbc7-73e2645d67c4"
      },
      "execution_count": 21,
      "outputs": [
        {
          "output_type": "execute_result",
          "data": {
            "text/plain": [
              "True"
            ]
          },
          "metadata": {},
          "execution_count": 21
        }
      ]
    },
    {
      "cell_type": "code",
      "source": [
        "a is b"
      ],
      "metadata": {
        "colab": {
          "base_uri": "https://localhost:8080/"
        },
        "id": "Lt728SUnqDdS",
        "outputId": "ada7c799-9171-417e-973e-b82f23e3d5b4"
      },
      "execution_count": 22,
      "outputs": [
        {
          "output_type": "execute_result",
          "data": {
            "text/plain": [
              "False"
            ]
          },
          "metadata": {},
          "execution_count": 22
        }
      ]
    },
    {
      "cell_type": "code",
      "source": [
        "# a와 b의 내용은 같지만 다른 개별 리스트임. \n",
        "# 서로 영향을 주지 않는다. \n",
        "\n",
        "b[2] = 99\n",
        "a\n"
      ],
      "metadata": {
        "colab": {
          "base_uri": "https://localhost:8080/"
        },
        "id": "A6ZzLvPAqEqp",
        "outputId": "591ff196-56d6-44fb-b6cf-2103ab6173a7"
      },
      "execution_count": 23,
      "outputs": [
        {
          "output_type": "execute_result",
          "data": {
            "text/plain": [
              "[0, 0, 0, 0, 0]"
            ]
          },
          "metadata": {},
          "execution_count": 23
        }
      ]
    },
    {
      "cell_type": "code",
      "source": [
        "b "
      ],
      "metadata": {
        "colab": {
          "base_uri": "https://localhost:8080/"
        },
        "id": "UEKGcx9CxWMO",
        "outputId": "fb0d46f4-5e3c-469b-e367-077d086ba87b"
      },
      "execution_count": 24,
      "outputs": [
        {
          "output_type": "execute_result",
          "data": {
            "text/plain": [
              "[0, 0, 99, 0, 0]"
            ]
          },
          "metadata": {},
          "execution_count": 24
        }
      ]
    },
    {
      "cell_type": "code",
      "source": [
        "# 22.3 반복문으로 리스트의 요소를 모두 출력하기 \n",
        "\n",
        "# 22.3.1 for 반복문으로 요소 출력하기 \n",
        "# for 반복문은 그냥 in 뒤에 리스트를 지정하면 된다. \n",
        "\n",
        "# for 변수 in 리스트 : \n",
        "    # 반복할 코드\n",
        "\n",
        "\n",
        "a = [38, 21, 53, 62, 19]\n",
        "for i in a : \n",
        "    print(i)"
      ],
      "metadata": {
        "colab": {
          "base_uri": "https://localhost:8080/"
        },
        "id": "HlJC8QBYxXF9",
        "outputId": "66a7d980-9bf8-4888-fde2-af3f2e37b43c"
      },
      "execution_count": 25,
      "outputs": [
        {
          "output_type": "stream",
          "name": "stdout",
          "text": [
            "38\n",
            "21\n",
            "53\n",
            "62\n",
            "19\n"
          ]
        }
      ]
    },
    {
      "cell_type": "code",
      "source": [
        "# 리스트를 직접 지정해도 된다. \n",
        "\n",
        "for i in [38, 21, 53, 62, 19]:\n",
        "    print(i)"
      ],
      "metadata": {
        "colab": {
          "base_uri": "https://localhost:8080/"
        },
        "id": "OTNkRhzexuGL",
        "outputId": "6aa73350-60d3-47a2-dcbe-965e89b15c3a"
      },
      "execution_count": 26,
      "outputs": [
        {
          "output_type": "stream",
          "name": "stdout",
          "text": [
            "38\n",
            "21\n",
            "53\n",
            "62\n",
            "19\n"
          ]
        }
      ]
    },
    {
      "cell_type": "code",
      "source": [
        "# 22.3.2 인덱스와 요소를 함께 출력하기 \n",
        "# for 반복문으로 요소를 출력할 때도 인덱스와 함께 출력하려면 enumerate를 사용한다. \n",
        "\n",
        "# for 인덱스, 요소 in enumerate(리스트):\n",
        "a = [38, 21, 53, 62, 19]\n",
        "for index, value in enumerate(a):\n",
        "    print(index,value)\n",
        "\n",
        "\n",
        "    # 이 코드는 0번째 인덱스부터 출력한다. "
      ],
      "metadata": {
        "colab": {
          "base_uri": "https://localhost:8080/"
        },
        "id": "QeP4q697x089",
        "outputId": "3372284b-8197-4e4e-94cd-a059ba5f567f"
      },
      "execution_count": 28,
      "outputs": [
        {
          "output_type": "stream",
          "name": "stdout",
          "text": [
            "0 38\n",
            "1 21\n",
            "2 53\n",
            "3 62\n",
            "4 19\n"
          ]
        }
      ]
    },
    {
      "cell_type": "code",
      "source": [
        "# 1번째 인덱스부터 출력하는 경우\n",
        "for index, value in enumerate(a):\n",
        "    print(index + 1, value)"
      ],
      "metadata": {
        "colab": {
          "base_uri": "https://localhost:8080/"
        },
        "id": "9NCXUZX60UOj",
        "outputId": "15c0660b-8227-4432-ecba-1b5a5cac608a"
      },
      "execution_count": 29,
      "outputs": [
        {
          "output_type": "stream",
          "name": "stdout",
          "text": [
            "1 38\n",
            "2 21\n",
            "3 53\n",
            "4 62\n",
            "5 19\n"
          ]
        }
      ]
    },
    {
      "cell_type": "code",
      "source": [
        "for index, value in enumerate(a):\n",
        "    print(index + 1, value)\n",
        "    "
      ],
      "metadata": {
        "colab": {
          "base_uri": "https://localhost:8080/"
        },
        "id": "WfsLekp-98fB",
        "outputId": "da5bdffd-8374-4705-f38e-838c518d6e8b"
      },
      "execution_count": 30,
      "outputs": [
        {
          "output_type": "stream",
          "name": "stdout",
          "text": [
            "1 38\n",
            "2 21\n",
            "3 53\n",
            "4 62\n",
            "5 19\n"
          ]
        }
      ]
    },
    {
      "cell_type": "code",
      "source": [
        "# for 인덱스, 요소 in enumerate(리스트, start=숫자)\n",
        "\n",
        "for index, value in enumerate(a, start=1): \n",
        "    print(index, value)"
      ],
      "metadata": {
        "colab": {
          "base_uri": "https://localhost:8080/"
        },
        "id": "bXtpm5rT-HYe",
        "outputId": "8e1d3fdc-2cb0-4809-ddb9-6be618797ac1"
      },
      "execution_count": 32,
      "outputs": [
        {
          "output_type": "stream",
          "name": "stdout",
          "text": [
            "1 38\n",
            "2 21\n",
            "3 53\n",
            "4 62\n",
            "5 19\n"
          ]
        }
      ]
    },
    {
      "cell_type": "code",
      "source": [
        "# for 반복무에서 인덱스로 요소를 출력하기 \n",
        "\n",
        "a = [38, 21, 53, 62, 19]\n",
        "for i in range(len(a)): # 이 줄을 실행하면 i에는 요소가 아닌 0부터 마지막 인덱스까지 인덱스가 들어간다. \n",
        "      print(a[i])"
      ],
      "metadata": {
        "colab": {
          "base_uri": "https://localhost:8080/"
        },
        "id": "Q307nEX2AlXO",
        "outputId": "f7119553-9937-47d3-9390-241266a4387c"
      },
      "execution_count": 34,
      "outputs": [
        {
          "output_type": "stream",
          "name": "stdout",
          "text": [
            "38\n",
            "21\n",
            "53\n",
            "62\n",
            "19\n"
          ]
        }
      ]
    },
    {
      "cell_type": "code",
      "source": [
        "# 22.3.3. while 반복문으로 요소 출력하기 \n",
        "a = [38, 21, 53, 62, 19]\n",
        "i = 0     # 변수 i를 0으로 만들어 준다. \n",
        "while i <len(a):  # i가 리스트의 길이(요소 개수) 직전까지만 반복하도록 한다. \n",
        "    print(a[i])\n",
        "    i += 1\n",
        "\n",
        "# 리스트의 인덱스는 0부터 시작하고 마지막 인덱스는 리스트의 길이보다 1이 작으므로 <를 사용해야한다. \n",
        "# i <= len(a)처럼 <=을 사용하면 리스트의 범위를 벗어나게 되므로 주의해야 한다. \n",
        "\n"
      ],
      "metadata": {
        "colab": {
          "base_uri": "https://localhost:8080/"
        },
        "id": "uhHFPbTpAx8-",
        "outputId": "163d092d-1c76-492e-c8e0-b5852fa6ace3"
      },
      "execution_count": 36,
      "outputs": [
        {
          "output_type": "stream",
          "name": "stdout",
          "text": [
            "38\n",
            "21\n",
            "53\n",
            "62\n",
            "19\n"
          ]
        }
      ]
    },
    {
      "cell_type": "code",
      "source": [
        "while i < len(a):\n",
        "    print(a[i])\n",
        "    i += 1\n",
        "\n",
        "# while 반복문 안에서 요소를 출력할 때는 print(a[i])와 같이 리스트의 인덱스 부분에 i를 지정하여 출력합니다. \n",
        "# 그 다음에는 i가 1만큼 증가하도록 만들면 된다. \n"
      ],
      "metadata": {
        "id": "HM8VJahXBEgN"
      },
      "execution_count": 37,
      "outputs": []
    },
    {
      "cell_type": "code",
      "source": [
        "# 22.4 리스트의 가장 작은 수, 가장 큰 수, 합계 구하기\n",
        "\n",
        "a = [38, 21, 53, 62, 19]\n",
        "smallest = a[0] # 리스트 a의 첫번째 요소 a[0]를 변수 smallest에 저장한다. \n",
        "# 그리고 for을 통해서 리스트의 요소를 모두 반복하면서 i 가 smallest보다 작으면 smallest에 i를 할당한다. \n",
        "# 숫자를 계속 비교해서 숫자가 작으며 smallest를 바꾸는 방식이다. \n",
        "for i in a : \n",
        "    if i < smallest :\n",
        "        smallest = i\n",
        "smallest"
      ],
      "metadata": {
        "colab": {
          "base_uri": "https://localhost:8080/"
        },
        "id": "yrnyAnIvCzvy",
        "outputId": "28458fad-2bb7-4112-cec8-6049e30273ef"
      },
      "execution_count": 38,
      "outputs": [
        {
          "output_type": "execute_result",
          "data": {
            "text/plain": [
              "19"
            ]
          },
          "metadata": {},
          "execution_count": 38
        }
      ]
    },
    {
      "cell_type": "code",
      "source": [
        "# 가장 큰 수는 위에서 부등호만 반대로 해주면 된다. \n",
        "\n",
        "a = [38, 21, 53, 62, 19]\n",
        "largest = a[0]\n",
        "for i in a:\n",
        "    if i > largest : \n",
        "        largest = i\n",
        "largest"
      ],
      "metadata": {
        "colab": {
          "base_uri": "https://localhost:8080/"
        },
        "id": "oE39yBghEFdw",
        "outputId": "79cfdd67-5dc3-480a-a6f6-3487dadecfef"
      },
      "execution_count": 41,
      "outputs": [
        {
          "output_type": "execute_result",
          "data": {
            "text/plain": [
              "62"
            ]
          },
          "metadata": {},
          "execution_count": 41
        }
      ]
    },
    {
      "cell_type": "code",
      "source": [
        "# 리스트를 오름차순, 내림차순으로 정리하는 sort 메서드를 이용해서 정리해보자. \n",
        "# 오름차순으로 정렬하면 첫번째 요소가 가장 작은 수이고, 내림차순으로 정렬하면 첫번째 요소가 가장 큰 수다.\n",
        "a = [38, 21, 53, 62, 19]\n",
        "a.sort()\n",
        "a[0]\n"
      ],
      "metadata": {
        "colab": {
          "base_uri": "https://localhost:8080/"
        },
        "id": "z7NXLjYuEYdJ",
        "outputId": "4ce7a25d-93e2-477f-d66c-d223b78982d8"
      },
      "execution_count": 42,
      "outputs": [
        {
          "output_type": "execute_result",
          "data": {
            "text/plain": [
              "19"
            ]
          },
          "metadata": {},
          "execution_count": 42
        }
      ]
    },
    {
      "cell_type": "code",
      "source": [
        "a.sort(reverse=True)\n",
        "a[0]"
      ],
      "metadata": {
        "colab": {
          "base_uri": "https://localhost:8080/"
        },
        "id": "PYp8UqG1E9Ex",
        "outputId": "cfbbd951-cd68-489b-b9f3-30787089b190"
      },
      "execution_count": 43,
      "outputs": [
        {
          "output_type": "execute_result",
          "data": {
            "text/plain": [
              "62"
            ]
          },
          "metadata": {},
          "execution_count": 43
        }
      ]
    },
    {
      "cell_type": "code",
      "source": [
        "# python에서 제공하는 min, max 함수를 사용하면 더 간단하다!\n",
        "\n",
        "a = [38, 21, 53, 62, 19]\n",
        "min(a)"
      ],
      "metadata": {
        "colab": {
          "base_uri": "https://localhost:8080/"
        },
        "id": "VaI-4v0yFBIA",
        "outputId": "e0430f86-0ad0-460b-98ce-7608fe7873ef"
      },
      "execution_count": 44,
      "outputs": [
        {
          "output_type": "execute_result",
          "data": {
            "text/plain": [
              "19"
            ]
          },
          "metadata": {},
          "execution_count": 44
        }
      ]
    },
    {
      "cell_type": "code",
      "source": [
        "max(a)"
      ],
      "metadata": {
        "colab": {
          "base_uri": "https://localhost:8080/"
        },
        "id": "sXlVCuOqFIeE",
        "outputId": "406b68a0-d53c-4fcf-c5da-90d241a8352b"
      },
      "execution_count": 45,
      "outputs": [
        {
          "output_type": "execute_result",
          "data": {
            "text/plain": [
              "62"
            ]
          },
          "metadata": {},
          "execution_count": 45
        }
      ]
    },
    {
      "cell_type": "code",
      "source": [
        "# 22.4.2 요소의 합계 구하기\n",
        "a = [10, 10, 10, 10, 10]\n",
        "x = 0\n",
        "for i in a : \n",
        "    x += i\n",
        "\n",
        "x\n",
        "\n",
        "\n",
        "# 변수 x에 0을 할당하고, for 반복문으로 리스트의 요소를 모두 반복하면서 요소를 x에 계속 더해주면 된다. \n",
        "# 이때 x에는 반드시 0을 할당해야한다. 그렇지 않으면 없는 변수에 값을 더하게 되므로 에러가 발생한다. \n",
        "# 파이썬에서는 합계를 구하는 sum함수를 제공한다."
      ],
      "metadata": {
        "colab": {
          "base_uri": "https://localhost:8080/"
        },
        "id": "2QG3a3gQFJY_",
        "outputId": "b4de1769-b2e0-429e-f80e-95c352441989"
      },
      "execution_count": 47,
      "outputs": [
        {
          "output_type": "execute_result",
          "data": {
            "text/plain": [
              "50"
            ]
          },
          "metadata": {},
          "execution_count": 47
        }
      ]
    },
    {
      "cell_type": "code",
      "source": [
        "a = [10, 10, 10, 10, 10]\n",
        "sum(a)"
      ],
      "metadata": {
        "colab": {
          "base_uri": "https://localhost:8080/"
        },
        "id": "LeFEQKfsFRZ4",
        "outputId": "8af12016-7e2a-4007-c3c0-24067a4afe41"
      },
      "execution_count": 48,
      "outputs": [
        {
          "output_type": "execute_result",
          "data": {
            "text/plain": [
              "50"
            ]
          },
          "metadata": {},
          "execution_count": 48
        }
      ]
    },
    {
      "cell_type": "code",
      "source": [
        "# min, max, sum에는 리스트뿐만 아니라 모든 반복 가능한 객체(iterable)을 넣을 수 있다. \n",
        "# 반복 가능한 객체는 리스트, 튜플, 딕셔너리, 세트, range 등이 있다. "
      ],
      "metadata": {
        "id": "bV--0AiCFod_"
      },
      "execution_count": 49,
      "outputs": []
    },
    {
      "cell_type": "code",
      "source": [
        "# 22,5 리스트 표현식 사용하기 \n",
        "# 리스트 컴프리헨션 list comprehension : 리스트 안에 식, for 반복문, if\n",
        "# 어떤 것을 잡아서 담아둔다. \n",
        "# 식으로 지정해서 생성된 것을 리스트로 잡아두는 것이다. \"리스트 표현식\"\n",
        "\n",
        "# [ 식 for 변수 in 리스트]\n",
        "# list (식 for 변수 in 리스트)\n",
        "\n",
        "a = [i for i in range(10)] \n",
        "# 0부터 9까지 숫자를 생성하여 리스트를 생성한다. \n",
        "a"
      ],
      "metadata": {
        "colab": {
          "base_uri": "https://localhost:8080/"
        },
        "id": "iL0PBlZIFypj",
        "outputId": "f44bdf1d-d1eb-49e0-872f-a4f6ea14976e"
      },
      "execution_count": 51,
      "outputs": [
        {
          "output_type": "execute_result",
          "data": {
            "text/plain": [
              "[0, 1, 2, 3, 4, 5, 6, 7, 8, 9]"
            ]
          },
          "metadata": {},
          "execution_count": 51
        }
      ]
    },
    {
      "cell_type": "code",
      "source": [
        "b = list(i for i in range(10))\n",
        "# 0부터 9까지 숫자를 생성하여 리스트 생성\n",
        "b\n",
        "\n",
        "# 뒤에서 앞으로 읽으면 easy : range(10)으로 0부터 9까지 생성하여 변수 i에 숫자를 꺼내고, 최종적으로 i를 이용하여 리스트를 만든다.\n"
      ],
      "metadata": {
        "colab": {
          "base_uri": "https://localhost:8080/"
        },
        "id": "OZb_6o7RIivp",
        "outputId": "ef726f5b-fae5-43c3-cde9-34b9f427c4d3"
      },
      "execution_count": 52,
      "outputs": [
        {
          "output_type": "execute_result",
          "data": {
            "text/plain": [
              "[0, 1, 2, 3, 4, 5, 6, 7, 8, 9]"
            ]
          },
          "metadata": {},
          "execution_count": 52
        }
      ]
    },
    {
      "cell_type": "code",
      "source": [
        "c = [i + 5 for i in range(10)]\n",
        "# 0부터 9까지 숫자를 생성하면서 값에 5를 더하여 리스트 생성\n",
        "c"
      ],
      "metadata": {
        "colab": {
          "base_uri": "https://localhost:8080/"
        },
        "id": "YyX1mWfeIp-r",
        "outputId": "161473bf-7ccb-46fb-a509-7d1f0fc01a67"
      },
      "execution_count": 53,
      "outputs": [
        {
          "output_type": "execute_result",
          "data": {
            "text/plain": [
              "[5, 6, 7, 8, 9, 10, 11, 12, 13, 14]"
            ]
          },
          "metadata": {},
          "execution_count": 53
        }
      ]
    },
    {
      "cell_type": "code",
      "source": [
        "d = [i*2 for i in range(10)]\n",
        "# 0부터 9까지의 숫자를 생성하면서 값에 2를 곱하여 리스트를 만든다. \n",
        "d"
      ],
      "metadata": {
        "colab": {
          "base_uri": "https://localhost:8080/"
        },
        "id": "6ELTID6vKSXz",
        "outputId": "d021c000-4ae3-4f15-dbb7-b40c515f480a"
      },
      "execution_count": 54,
      "outputs": [
        {
          "output_type": "execute_result",
          "data": {
            "text/plain": [
              "[0, 2, 4, 6, 8, 10, 12, 14, 16, 18]"
            ]
          },
          "metadata": {},
          "execution_count": 54
        }
      ]
    },
    {
      "cell_type": "markdown",
      "source": [
        "# 참고. 대괄호와 list() 리스트 표현식\n",
        "\n",
        "- 리스트 표현식 만드는 방법 \n",
        "1. [ ](대괄호)\n",
        "2. list(식 for 변수 in list)\n",
        "\n",
        "대괄호 방식이 더욱 좋다. \n",
        "list 방식은 C언어 스타일이라 대괄호 방식이 파이썬다운 코드다. \n",
        "\n",
        "- list는 리스트 표현식을 만들 수 있다는 정도만 알아두면 된다!"
      ],
      "metadata": {
        "id": "HJpBXhhwKxnS"
      }
    },
    {
      "cell_type": "code",
      "source": [
        "# 22.5.1 리스트 표현식에서 if 조건문 사용하기 \n",
        "\n",
        "# [식 for 변수 in 리스트 if 조건식]\n",
        "# list (식 for 변수 리스트 if 조건식)\n",
        "\n",
        "a = [i for i in range(10) if i % 2 == 0]\n",
        "# 0~9 숫자 중 2의 배수인 숫자(짝수)만으로 구성된 리스트를 생성한다. \n",
        "a"
      ],
      "metadata": {
        "colab": {
          "base_uri": "https://localhost:8080/"
        },
        "id": "Vy51CFcZKv48",
        "outputId": "12196d4d-f7a5-4d17-eb8c-191d1c7d9d91"
      },
      "execution_count": 55,
      "outputs": [
        {
          "output_type": "execute_result",
          "data": {
            "text/plain": [
              "[0, 2, 4, 6, 8]"
            ]
          },
          "metadata": {},
          "execution_count": 55
        }
      ]
    },
    {
      "cell_type": "code",
      "source": [
        "# 홀수만 하자!\n",
        "a = [i for i in range(10) if i % 2 != 0]\n",
        "a"
      ],
      "metadata": {
        "colab": {
          "base_uri": "https://localhost:8080/"
        },
        "id": "53Hbti8bMJpe",
        "outputId": "4be24eab-c983-4a7e-8090-0332e0ba6d45"
      },
      "execution_count": 56,
      "outputs": [
        {
          "output_type": "execute_result",
          "data": {
            "text/plain": [
              "[1, 3, 5, 7, 9]"
            ]
          },
          "metadata": {},
          "execution_count": 56
        }
      ]
    },
    {
      "cell_type": "code",
      "source": [
        "# 22.5.2 for 반복문과 if 조건문을 여러 번 사용하기 \n",
        "\n",
        "# 리스트 표현식은 for와 if를 여러 번 사용할 수도 있다. \n",
        "\n",
        "# 2단부터 9단까지 구구단 리스트를 생성해보자. \n",
        "\n",
        "a = [i * j for j in range(2,10) for i in range(1, 10)]\n",
        "a"
      ],
      "metadata": {
        "colab": {
          "base_uri": "https://localhost:8080/"
        },
        "id": "l0L2fZInM_6K",
        "outputId": "98d26799-2ee9-4418-9cf5-6959c0f2dfd1"
      },
      "execution_count": 58,
      "outputs": [
        {
          "output_type": "execute_result",
          "data": {
            "text/plain": [
              "[2,\n",
              " 4,\n",
              " 6,\n",
              " 8,\n",
              " 10,\n",
              " 12,\n",
              " 14,\n",
              " 16,\n",
              " 18,\n",
              " 3,\n",
              " 6,\n",
              " 9,\n",
              " 12,\n",
              " 15,\n",
              " 18,\n",
              " 21,\n",
              " 24,\n",
              " 27,\n",
              " 4,\n",
              " 8,\n",
              " 12,\n",
              " 16,\n",
              " 20,\n",
              " 24,\n",
              " 28,\n",
              " 32,\n",
              " 36,\n",
              " 5,\n",
              " 10,\n",
              " 15,\n",
              " 20,\n",
              " 25,\n",
              " 30,\n",
              " 35,\n",
              " 40,\n",
              " 45,\n",
              " 6,\n",
              " 12,\n",
              " 18,\n",
              " 24,\n",
              " 30,\n",
              " 36,\n",
              " 42,\n",
              " 48,\n",
              " 54,\n",
              " 7,\n",
              " 14,\n",
              " 21,\n",
              " 28,\n",
              " 35,\n",
              " 42,\n",
              " 49,\n",
              " 56,\n",
              " 63,\n",
              " 8,\n",
              " 16,\n",
              " 24,\n",
              " 32,\n",
              " 40,\n",
              " 48,\n",
              " 56,\n",
              " 64,\n",
              " 72,\n",
              " 9,\n",
              " 18,\n",
              " 27,\n",
              " 36,\n",
              " 45,\n",
              " 54,\n",
              " 63,\n",
              " 72,\n",
              " 81]"
            ]
          },
          "metadata": {},
          "execution_count": 58
        }
      ]
    },
    {
      "cell_type": "code",
      "source": [
        "a = [ i*j for j in range(2, 10) \n",
        "          for i in range(1, 10)]  #가독성을 위한 들여쓰기\n",
        "a"
      ],
      "metadata": {
        "colab": {
          "base_uri": "https://localhost:8080/"
        },
        "id": "4itqHXd-VvD_",
        "outputId": "7619737d-98bf-4ccd-d91d-124206e5cb72"
      },
      "execution_count": 59,
      "outputs": [
        {
          "output_type": "execute_result",
          "data": {
            "text/plain": [
              "[2,\n",
              " 4,\n",
              " 6,\n",
              " 8,\n",
              " 10,\n",
              " 12,\n",
              " 14,\n",
              " 16,\n",
              " 18,\n",
              " 3,\n",
              " 6,\n",
              " 9,\n",
              " 12,\n",
              " 15,\n",
              " 18,\n",
              " 21,\n",
              " 24,\n",
              " 27,\n",
              " 4,\n",
              " 8,\n",
              " 12,\n",
              " 16,\n",
              " 20,\n",
              " 24,\n",
              " 28,\n",
              " 32,\n",
              " 36,\n",
              " 5,\n",
              " 10,\n",
              " 15,\n",
              " 20,\n",
              " 25,\n",
              " 30,\n",
              " 35,\n",
              " 40,\n",
              " 45,\n",
              " 6,\n",
              " 12,\n",
              " 18,\n",
              " 24,\n",
              " 30,\n",
              " 36,\n",
              " 42,\n",
              " 48,\n",
              " 54,\n",
              " 7,\n",
              " 14,\n",
              " 21,\n",
              " 28,\n",
              " 35,\n",
              " 42,\n",
              " 49,\n",
              " 56,\n",
              " 63,\n",
              " 8,\n",
              " 16,\n",
              " 24,\n",
              " 32,\n",
              " 40,\n",
              " 48,\n",
              " 56,\n",
              " 64,\n",
              " 72,\n",
              " 9,\n",
              " 18,\n",
              " 27,\n",
              " 36,\n",
              " 45,\n",
              " 54,\n",
              " 63,\n",
              " 72,\n",
              " 81]"
            ]
          },
          "metadata": {},
          "execution_count": 59
        }
      ]
    },
    {
      "cell_type": "code",
      "source": [
        "# 22. 6 리스트에 map 사용하기\n",
        "# list(map(함수, 리스트))\n",
        "# tuple(map(함수, 튜플))\n",
        "\n",
        "# map : list의 요소를 지정된 함수로 처리해주는 함수다. \n",
        "# 원본 리스트를 변경하지 않고 새 리스트를 생성한다. \n",
        "\n",
        "# 실수가 저장된 리스트가 있을 때 이 리스트의 모든 요소를 정수로 변환하려면?\n",
        "# for반복문을 사용해서 변환해보자. \n",
        "\n",
        "a = [1.2, 2.5, 3.7, 4.6]\n",
        "for i in range(len(a)):\n",
        "    a[i] = int(a[i])\n",
        "\n",
        "a"
      ],
      "metadata": {
        "colab": {
          "base_uri": "https://localhost:8080/"
        },
        "id": "pMaBeXzsV3hB",
        "outputId": "6dd13b1d-24c5-499c-d2e4-7325c8f48562"
      },
      "execution_count": 60,
      "outputs": [
        {
          "output_type": "execute_result",
          "data": {
            "text/plain": [
              "[1, 2, 3, 4]"
            ]
          },
          "metadata": {},
          "execution_count": 60
        }
      ]
    },
    {
      "cell_type": "code",
      "source": [
        "a = [1.2, 2.5, 3.7, 4.6]\n",
        "a = list(map(int,a))  # mapdp int와 리스트a를 넣으면 리스트의 모든 요소를 int를 사용해서 변환한다. 그 다음에 list를 사용해서 map의 결과를 다시 리스트로 만들어 준다. \n",
        "a"
      ],
      "metadata": {
        "colab": {
          "base_uri": "https://localhost:8080/"
        },
        "id": "23FRvRRfWbGU",
        "outputId": "2847f39f-f8a2-46f5-bf0e-f1841324e11d"
      },
      "execution_count": 62,
      "outputs": [
        {
          "output_type": "execute_result",
          "data": {
            "text/plain": [
              "[1, 2, 3, 4]"
            ]
          },
          "metadata": {},
          "execution_count": 62
        }
      ]
    },
    {
      "cell_type": "code",
      "source": [
        "a = list(map(str, range(10)))\n",
        "a"
      ],
      "metadata": {
        "colab": {
          "base_uri": "https://localhost:8080/"
        },
        "id": "lwKcFgatWkW1",
        "outputId": "b4c267e9-4361-4c4e-d4ae-23769ea9cc98"
      },
      "execution_count": 63,
      "outputs": [
        {
          "output_type": "execute_result",
          "data": {
            "text/plain": [
              "['0', '1', '2', '3', '4', '5', '6', '7', '8', '9']"
            ]
          },
          "metadata": {},
          "execution_count": 63
        }
      ]
    },
    {
      "cell_type": "code",
      "source": [
        "# 22.6.1 input().split()과 map\n",
        "\n",
        "a = input().split()"
      ],
      "metadata": {
        "colab": {
          "base_uri": "https://localhost:8080/"
        },
        "id": "aEQ0GoEyW3z6",
        "outputId": "08c0dc27-c2b9-47c1-964e-5dec309af92c"
      },
      "execution_count": 65,
      "outputs": [
        {
          "name": "stdout",
          "output_type": "stream",
          "text": [
            "10 20\n"
          ]
        }
      ]
    },
    {
      "cell_type": "code",
      "source": [
        "a\n"
      ],
      "metadata": {
        "colab": {
          "base_uri": "https://localhost:8080/"
        },
        "id": "hjaIY3iSW8Xa",
        "outputId": "8b881a66-ced6-421f-e7c8-0024fb8cfd9a"
      },
      "execution_count": 66,
      "outputs": [
        {
          "output_type": "execute_result",
          "data": {
            "text/plain": [
              "['10', '20']"
            ]
          },
          "metadata": {},
          "execution_count": 66
        }
      ]
    },
    {
      "cell_type": "code",
      "source": [
        "# 문자열이 두 개가 들어있는 리스트가 만들어진다. \n",
        "# 이제 map을 사용해서 정수로 변환해보자. \n",
        "\n",
        "a = map(int, input().split())"
      ],
      "metadata": {
        "colab": {
          "base_uri": "https://localhost:8080/"
        },
        "id": "HSu7_9fKXDYj",
        "outputId": "3b27eef0-c543-4856-b348-33916a214898"
      },
      "execution_count": 67,
      "outputs": [
        {
          "name": "stdout",
          "output_type": "stream",
          "text": [
            "10 20\n"
          ]
        }
      ]
    },
    {
      "cell_type": "code",
      "source": [
        "a"
      ],
      "metadata": {
        "colab": {
          "base_uri": "https://localhost:8080/"
        },
        "id": "p-7gvPTFXLk_",
        "outputId": "de7d19db-cff6-4209-9b08-1552881374c7"
      },
      "execution_count": 68,
      "outputs": [
        {
          "output_type": "execute_result",
          "data": {
            "text/plain": [
              "<map at 0x7f8a3e3394d0>"
            ]
          },
          "metadata": {},
          "execution_count": 68
        }
      ]
    },
    {
      "cell_type": "code",
      "source": [
        "# 맵 객체가 만들어진다. \n",
        "# 이 상태로는 안에 들어 있는 값을 볼 수 없기 때문에 list를 사용해서 리스트로 출력한다. \n",
        "list(a)"
      ],
      "metadata": {
        "colab": {
          "base_uri": "https://localhost:8080/"
        },
        "id": "zF0JGDaWXNE8",
        "outputId": "ced4493f-7678-4308-e1b9-4468e374b0d7"
      },
      "execution_count": 69,
      "outputs": [
        {
          "output_type": "execute_result",
          "data": {
            "text/plain": [
              "[10, 20]"
            ]
          },
          "metadata": {},
          "execution_count": 69
        }
      ]
    },
    {
      "cell_type": "code",
      "source": [
        "# 이 리스트 [10, 20]을 변수 두 개에 저장하면 지금까지 사용한 a,b = map(int, input().split())와 같은 동작이 된다. \n",
        "a,b = [10, 20]\n",
        "a "
      ],
      "metadata": {
        "colab": {
          "base_uri": "https://localhost:8080/"
        },
        "id": "QdQmVBHGXfqS",
        "outputId": "9a5d2e0b-2b96-4b72-cd55-aaa99695e252"
      },
      "execution_count": 72,
      "outputs": [
        {
          "output_type": "execute_result",
          "data": {
            "text/plain": [
              "10"
            ]
          },
          "metadata": {},
          "execution_count": 72
        }
      ]
    },
    {
      "cell_type": "code",
      "source": [
        "b"
      ],
      "metadata": {
        "colab": {
          "base_uri": "https://localhost:8080/"
        },
        "id": "oc-ynY0NXqJ_",
        "outputId": "2abecfad-ed9d-44c5-9117-9fabc9e4d012"
      },
      "execution_count": 73,
      "outputs": [
        {
          "output_type": "execute_result",
          "data": {
            "text/plain": [
              "20"
            ]
          },
          "metadata": {},
          "execution_count": 73
        }
      ]
    },
    {
      "cell_type": "code",
      "source": [
        "# map이 반환하는 맵 객체는 이터레이터라서 변수 여러 개에서 저장하는 언패킹이 가능하다. \n",
        "# a,b = map(int, input().split())처럼 list를 생략한 것이다. \n",
        "\n",
        "x = input().split() # 이 줄의 결과는 문자열 리스트\n",
        "m = map(int, x) # 리스트의 요소를 int로 변환, 결과는 맵 객체\n",
        "a, b = m # 맵 객체는 변수여러 개에 저장할 수 있다. "
      ],
      "metadata": {
        "colab": {
          "base_uri": "https://localhost:8080/"
        },
        "id": "KyaLwifMXqgl",
        "outputId": "62ab3ef8-658c-4b65-a966-f6d0dea8e6b6"
      },
      "execution_count": 74,
      "outputs": [
        {
          "name": "stdout",
          "output_type": "stream",
          "text": [
            "10 20\n"
          ]
        }
      ]
    },
    {
      "cell_type": "code",
      "source": [
        "# 튜플의 메서드와 다양한 사용 방법\n",
        "# 튜플은 리스트와는 달리 내용을 변경할 수 없다. immutable! append같은거 사용 안됨. \n",
        "# 요소의 정보를 구하는 메서드만 사용할 수 있다. \n",
        "\n",
        "#22.7.1 튜플에서 특정 값의 인덱스 구하기\n",
        "# 인덱스(값)은 튜플에서 특정 값의 인덱스를 구한다. \n",
        "\n",
        "a = (38, 21, 53, 62, 19, 53)\n",
        "a.index(53)"
      ],
      "metadata": {
        "colab": {
          "base_uri": "https://localhost:8080/"
        },
        "id": "jKjgzfyfYKtz",
        "outputId": "0a957a4f-a5e4-4710-c30f-46b988f39517"
      },
      "execution_count": 75,
      "outputs": [
        {
          "output_type": "execute_result",
          "data": {
            "text/plain": [
              "2"
            ]
          },
          "metadata": {},
          "execution_count": 75
        }
      ]
    },
    {
      "cell_type": "code",
      "source": [
        "# 22.7.2  특정 값의 개수 구하기 \n",
        "# count(값) : 튜플에서 특정 값의 개수를 구한다. \n",
        "\n",
        "a = (10, 20, 30, 15, 20, 40)\n",
        "a.count(20)"
      ],
      "metadata": {
        "colab": {
          "base_uri": "https://localhost:8080/"
        },
        "id": "p3pM_VCvYicm",
        "outputId": "563ef385-b686-46d0-dd3e-63b8c86b2b68"
      },
      "execution_count": 76,
      "outputs": [
        {
          "output_type": "execute_result",
          "data": {
            "text/plain": [
              "2"
            ]
          },
          "metadata": {},
          "execution_count": 76
        }
      ]
    },
    {
      "cell_type": "code",
      "source": [
        "# 22.7.3 for 반복문으로 요소 출력하기 \n",
        "a = (38, 21, 53, 62, 19)\n",
        "for i in a:\n",
        "    print(i, end=' ')\n",
        "    "
      ],
      "metadata": {
        "colab": {
          "base_uri": "https://localhost:8080/"
        },
        "id": "i0-1zYulYsNt",
        "outputId": "6f802c4a-d418-4c53-fc06-e62c0d0b4521"
      },
      "execution_count": 77,
      "outputs": [
        {
          "output_type": "stream",
          "name": "stdout",
          "text": [
            "38 21 53 62 19 "
          ]
        }
      ]
    },
    {
      "cell_type": "code",
      "source": [
        "# 22.7.4 튜플 표현식 사용하기 \n",
        "# tuple(식 for 변수 in 리스트 if 조건식)\n",
        "a = tuple(i for i in range(10) if i % 2 == 0)\n",
        "a"
      ],
      "metadata": {
        "colab": {
          "base_uri": "https://localhost:8080/"
        },
        "id": "3EtAhRHpZUK9",
        "outputId": "5bd34c15-ed80-4c24-8ea9-ea68a7564c9c"
      },
      "execution_count": 78,
      "outputs": [
        {
          "output_type": "execute_result",
          "data": {
            "text/plain": [
              "(0, 2, 4, 6, 8)"
            ]
          },
          "metadata": {},
          "execution_count": 78
        }
      ]
    },
    {
      "cell_type": "code",
      "source": [
        "# (  ) 괄호 안에 표현식을 넣으면 튜플이 아니라 제너레이터 표현식이 된다. (unit 40에 나옴)\n",
        "\n",
        "(i for i in range(10) if i % 2 == 0)"
      ],
      "metadata": {
        "colab": {
          "base_uri": "https://localhost:8080/"
        },
        "id": "G73QLpBTZd7d",
        "outputId": "807e1cde-4f09-48db-d9d3-59273ae95543"
      },
      "execution_count": 79,
      "outputs": [
        {
          "output_type": "execute_result",
          "data": {
            "text/plain": [
              "<generator object <genexpr> at 0x7f8a3e2c7b50>"
            ]
          },
          "metadata": {},
          "execution_count": 79
        }
      ]
    },
    {
      "cell_type": "code",
      "source": [
        "# 22.7.5 tuple에 map 사용하기 \n",
        "a = (1.2, 2.5, 3.7, 4.6)\n",
        "a = tuple(map(int, a))\n",
        "a"
      ],
      "metadata": {
        "colab": {
          "base_uri": "https://localhost:8080/"
        },
        "id": "TJF4S6MbZoiY",
        "outputId": "c961b3a3-15d6-4db9-9b8e-df2335f123a7"
      },
      "execution_count": 80,
      "outputs": [
        {
          "output_type": "execute_result",
          "data": {
            "text/plain": [
              "(1, 2, 3, 4)"
            ]
          },
          "metadata": {},
          "execution_count": 80
        }
      ]
    },
    {
      "cell_type": "code",
      "source": [
        "# 22.7.6 튜플에서 가장 작은 수, 가장 큰 수, 합계 구하기 \n",
        "# 튜플도 min, max, sum 함수 사용 가능\n",
        "\n",
        "a = (38, 21, 53, 62, 19)\n",
        "min(a)\n"
      ],
      "metadata": {
        "colab": {
          "base_uri": "https://localhost:8080/"
        },
        "id": "MpFKBBTGZw3a",
        "outputId": "d461599d-26a6-4d55-f9c1-d955cf4a98bb"
      },
      "execution_count": 81,
      "outputs": [
        {
          "output_type": "execute_result",
          "data": {
            "text/plain": [
              "19"
            ]
          },
          "metadata": {},
          "execution_count": 81
        }
      ]
    },
    {
      "cell_type": "code",
      "source": [
        "max(a)"
      ],
      "metadata": {
        "colab": {
          "base_uri": "https://localhost:8080/"
        },
        "id": "OPvwUvs8Z54m",
        "outputId": "011944ac-ad6d-4736-eb9d-a6365876cad9"
      },
      "execution_count": 82,
      "outputs": [
        {
          "output_type": "execute_result",
          "data": {
            "text/plain": [
              "62"
            ]
          },
          "metadata": {},
          "execution_count": 82
        }
      ]
    },
    {
      "cell_type": "code",
      "source": [
        "sum(a)"
      ],
      "metadata": {
        "colab": {
          "base_uri": "https://localhost:8080/"
        },
        "id": "5_IPeWJ3Z6pX",
        "outputId": "d56ef00d-88b5-4248-f105-c99788c43fe6"
      },
      "execution_count": 83,
      "outputs": [
        {
          "output_type": "execute_result",
          "data": {
            "text/plain": [
              "193"
            ]
          },
          "metadata": {},
          "execution_count": 83
        }
      ]
    },
    {
      "cell_type": "markdown",
      "source": [
        "지금까지 리스트의 다양한 메서드와 응용 방법을 배웠는데, 내용이 조금 어려웠습니다. 리스트 메서드는 모두 외우지 않아도 되며 파이썬을 사용하다 보면 자연스럽게 익히게 됩니다. 여기서는 리스트와 반복문을 사용하는 방법이 중요합니다. 특히 파이썬에서는 리스트 표현식을 자주 사용하므로 이 부분을 반복 학습하여 정확하게 익히는 것이 좋습니다."
      ],
      "metadata": {
        "id": "IE3RaVCCZ8Vr"
      }
    },
    {
      "cell_type": "markdown",
      "source": [
        "# 22.9 연습문제: 리스트에서 특정 요소만 뽑아내기\n",
        "다음 소스 코드를 완성하여 리스트 a에 들어있는 문자열 중에서 길이가 5인 것들만 리스트 형태로 출력되게 만드세요(리스트 표현식 사용).\n",
        "\n",
        "\n",
        "- [note] 나중에 다시 보기~ "
      ],
      "metadata": {
        "id": "Wcnypt9xaCkt"
      }
    },
    {
      "cell_type": "code",
      "source": [
        "a = ['alpha', 'bravo', 'charlie', 'delta', 'echo', 'foxtrot', 'golf', 'hotel', 'india']\n",
        "b = [i for i in a if len(i) == 5]\n",
        "print(b)"
      ],
      "metadata": {
        "colab": {
          "base_uri": "https://localhost:8080/"
        },
        "id": "t1M4n4VrZ7K6",
        "outputId": "78c1292f-8fb4-4aff-be33-a4ccd48a4425"
      },
      "execution_count": 88,
      "outputs": [
        {
          "output_type": "stream",
          "name": "stdout",
          "text": [
            "['alpha', 'bravo', 'delta', 'hotel', 'india']\n"
          ]
        }
      ]
    },
    {
      "cell_type": "markdown",
      "source": [
        "- 조건 : 리스트 a에서 길이가 5인 문자열만 리스트 b에 저장해야 한다. \n",
        "- 틀린 이유 1 : 조건을 잘못 봐서 >인줄 알았음. 같은 값을 찾을 때는 == 사용해야한다. \n",
        "- 리스트 표현식은 숫자뿐만 아니라 문자열 등 다양한 요소를 처리할 수 있다. "
      ],
      "metadata": {
        "id": "lfeToiz2azyl"
      }
    },
    {
      "cell_type": "code",
      "source": [
        ""
      ],
      "metadata": {
        "id": "yvVsbpciaT0w"
      },
      "execution_count": null,
      "outputs": []
    },
    {
      "cell_type": "code",
      "source": [
        ""
      ],
      "metadata": {
        "id": "8aloQbA2bt0-"
      },
      "execution_count": null,
      "outputs": []
    }
  ]
}